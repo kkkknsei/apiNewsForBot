{
  "nbformat": 4,
  "nbformat_minor": 0,
  "metadata": {
    "colab": {
      "name": "Untitled1.ipynb",
      "provenance": [],
      "collapsed_sections": [],
      "authorship_tag": "ABX9TyO204RnMbA+ZwAIe1fiHlz5"
    },
    "kernelspec": {
      "name": "python3",
      "display_name": "Python 3"
    },
    "language_info": {
      "name": "python"
    }
  },
  "cells": [
    {
      "cell_type": "code",
      "metadata": {
        "id": "jbSFIRblj9pq",
        "colab": {
          "base_uri": "https://localhost:8080/"
        },
        "outputId": "df04fabe-2b85-4ac9-cc55-baf52d5ccd63"
      },
      "source": [
        "!pip3 install finnhub-python"
      ],
      "execution_count": 2,
      "outputs": [
        {
          "output_type": "stream",
          "text": [
            "Collecting finnhub-python\n",
            "  Downloading finnhub_python-2.4.3-py3-none-any.whl (10 kB)\n",
            "Requirement already satisfied: requests>=2.22.0 in /usr/local/lib/python3.7/dist-packages (from finnhub-python) (2.23.0)\n",
            "Requirement already satisfied: certifi>=2017.4.17 in /usr/local/lib/python3.7/dist-packages (from requests>=2.22.0->finnhub-python) (2021.5.30)\n",
            "Requirement already satisfied: urllib3!=1.25.0,!=1.25.1,<1.26,>=1.21.1 in /usr/local/lib/python3.7/dist-packages (from requests>=2.22.0->finnhub-python) (1.24.3)\n",
            "Requirement already satisfied: chardet<4,>=3.0.2 in /usr/local/lib/python3.7/dist-packages (from requests>=2.22.0->finnhub-python) (3.0.4)\n",
            "Requirement already satisfied: idna<3,>=2.5 in /usr/local/lib/python3.7/dist-packages (from requests>=2.22.0->finnhub-python) (2.10)\n",
            "Installing collected packages: finnhub-python\n",
            "Successfully installed finnhub-python-2.4.3\n"
          ],
          "name": "stdout"
        }
      ]
    },
    {
      "cell_type": "code",
      "metadata": {
        "id": "S_NrN6agkBso"
      },
      "source": [
        "import finnhub\n",
        "import time\n",
        "import datetime\n",
        "\n",
        "lista_symbols = {\n",
        "                 'JPM': 'NYSE: JP Morgan',\n",
        "                 'WFC': 'NYSE: Wells Fargo & Co',\n",
        "                 'BAC': 'NYSE: Bank of America Corp',\n",
        "                 'HSBC': 'NYSE: HSBC',\n",
        "                 'C': 'NYSE: Citigroup Inc.',\n",
        "                 'MA': 'NYSE: Mastercard',\n",
        "                 'AAPL': 'NASDAQ: Apple',\n",
        "                 'GOOGL': 'NASDAQ: Google',\n",
        "                 'MSFT': 'NASDAQ: Microsoft',\n",
        "                 'FB': 'NASDAQ: Facebook',\n",
        "                 'ORCL': 'NYSE: Oracle',\n",
        "                 'INTC': 'NASDAQ: INTC',\n",
        "                 'PFE': 'NYSE: Pfizer',\n",
        "                 'TSLA': 'NASDAQ: Tesla',\n",
        "                 'NVDA': 'NASDAQ: Nvidia',\n",
        "                 'AMZN': 'NASDAQ: Amazon',\n",
        "                 'HOOD': 'NASDAQ: Robinhood',\n",
        "                 'KO': 'NYSE: Coca-Cola',\n",
        "                 'NFLX': 'NASDAQ: Netflix',\n",
        "                 'BRK.A': 'NYSE: Berkshire Hathaway Inc. Class A',\n",
        "                 'DIS': 'NYSE: Disney',\n",
        "                 'BABA': 'NASDAQ: Alibaba',\n",
        "                 'T': 'NYSE: AT&T',\n",
        "                 'WMT': 'NYSE: Walmart',\n",
        "                 'V': 'NYSE: Visa'\n",
        "\n",
        "}\n",
        "\n",
        "finnhub_client = finnhub.Client(api_key=\"c4f598iad3ifjjj9ciag\")"
      ],
      "execution_count": 3,
      "outputs": []
    },
    {
      "cell_type": "code",
      "metadata": {
        "id": "sa2t-ZN_kMo8"
      },
      "source": [
        "def get_news():\n",
        "\n",
        "  for item in finnhub_client.general_news('general', min_id=0):\n",
        "    date_parsed = datetime.datetime.fromtimestamp(item['datetime'])\n",
        "    if str(date_parsed).split(' ')[0] == str(datetime.date.today()):\n",
        "      print(f\"{item['source']}: {item['headline']} \\n {item['url']} \\n {date_parsed} \\n\\n\")\n",
        "\n",
        "def get_ticker(ticker):\n",
        "  try:\n",
        "    coname = f\"{lista_symbols[ticker]}\"\n",
        "  except Exception as exc:\n",
        "    coname = f\"Empresa não cadastrada no banco de dados (razão social não foi encontrada), Symbol: {exc}\"\n",
        "\n",
        "  result = f\"\"\"Symbol - {coname}\n",
        "        Current Value: {finnhub_client.quote({ticker})['c']}\n",
        "        Change: {finnhub_client.quote(f'{ticker}')['d']}\n",
        "        Change %: {finnhub_client.quote(f'{ticker}')['dp']}\"\"\"\n",
        "\n",
        "  return result\n",
        "  \n",
        "\n",
        "def get_sentiment(ticker):\n",
        "  ticker_func = finnhub_client.stock_social_sentiment(f'{ticker}')\n",
        "\n",
        "  try:\n",
        "    print(f\"{lista_symbols[ticker]}\\n\")\n",
        "  except Exception as exc:\n",
        "    print(f\"Empresa não cadastrada no banco de dados (razão social não foi encontrada), Symbol: {exc}\\n\")\n",
        "\n",
        "  print('Reddit Sentiment:')\n",
        "  for item in ticker_func['reddit']:\n",
        "    date_parsed = item['atTime']\n",
        "    if item != '' and str(date_parsed).split(' ')[0] == str(datetime.date.today()):\n",
        "      print(f\"{item['atTime']}:\\nMention: {item['mention']}\\n\"+\n",
        "            f\"Positive Score: {item['positiveScore']}\\n\"+\n",
        "            f\"Positive Mention: {item['positiveMention']}\\n\"+\n",
        "            f\"Negative Score:{item['negativeScore']}\\n\"+\n",
        "            f\"Negative Mention: {item['negativeMention']}\\n\"+\n",
        "            f\"Score: {item['score']}\\n\\n\")\n",
        "\n",
        "  print('\\n\\nTwitter Sentiment:')\n",
        "\n",
        "  for item in ticker_func['twitter']:\n",
        "    date_parsed = item['atTime']\n",
        "    if item != '' and str(date_parsed).split(' ')[0] == str(datetime.date.today()):\n",
        "      print(f\"{item['atTime']}:\\nMention: {item['mention']}\\n\"+\n",
        "            f\"Positive Score: {item['positiveScore']}\\n\"+\n",
        "            f\"Positive Mention: {item['positiveMention']}\\n\"+\n",
        "            f\"Negative Score:{item['negativeScore']}\\n\"+\n",
        "            f\"Negative Mention: {item['negativeMention']}\\n\"+\n",
        "            f\"Score: {item['score']}\\n\\n\")\n",
        "\n",
        "def retrieve_data():\n",
        "\n",
        "  data_temp = []\n",
        "\n",
        "  for symbol in lista_symbols:\n",
        "    time.sleep(5)\n",
        "    try:\n",
        "      data_temp.append(get_ticker(symbol))\n",
        "    except Exception as exc:\n",
        "      print(exc)\n",
        "      continue\n",
        "\n",
        "  return data_temp\n",
        "\n",
        "def retrieve_and_validate():\n",
        "  test_result = retrieve_data()\n",
        "  while (len(test_result) != len(lista_symbols)):\n",
        "    test_result = retrieve_data()\n",
        "  \n",
        "  return test_result"
      ],
      "execution_count": 4,
      "outputs": []
    },
    {
      "cell_type": "code",
      "metadata": {
        "id": "ejqyPZg3owBb"
      },
      "source": [
        "rest_result = retrieve_and_validate()"
      ],
      "execution_count": 5,
      "outputs": []
    },
    {
      "cell_type": "code",
      "metadata": {
        "id": "ZGFaqmj5qiWi"
      },
      "source": [
        "def format_results(results):\n",
        "  formatted_results = []\n",
        "  \n",
        "  for item in rest_result[0].split('\\n'):\n",
        "    formatted_results.append(item.strip())\n",
        "\n",
        "  return formatted_results"
      ],
      "execution_count": 27,
      "outputs": []
    },
    {
      "cell_type": "code",
      "metadata": {
        "colab": {
          "base_uri": "https://localhost:8080/"
        },
        "id": "plD3UUBbrrYb",
        "outputId": "35df54e6-af16-49fd-c346-441eaefbf744"
      },
      "source": [
        "return_for_test = format_results(rest_result)\n",
        "\n",
        "test_variable = \"\"\"\n",
        "<pre>\n",
        "|         Ativo            |       Valor atual     |     Resumo    |\n",
        "|--------------------------|:---------------------:|--------------:|\n",
        "| {return_for_test[0]} | {return_for_test[1]} | {return_for_test[2]}% |\n",
        "</pre>\n",
        "    \"\"\".format(**locals())\n",
        "\n",
        "print(test_variable)"
      ],
      "execution_count": 39,
      "outputs": [
        {
          "output_type": "stream",
          "text": [
            "\n",
            "<pre>\n",
            "|         Ativo            |       Valor atual     |     Resumo    |\n",
            "|--------------------------|:---------------------:|--------------:|\n",
            "| Symbol - NYSE: JP Morgan | Current Value: 154.28 | Change: -1.3% |\n",
            "</pre>\n",
            "    \n"
          ],
          "name": "stdout"
        }
      ]
    },
    {
      "cell_type": "code",
      "metadata": {
        "colab": {
          "base_uri": "https://localhost:8080/"
        },
        "id": "KZTKaRu8xTit",
        "outputId": "dfeb40e0-0e72-4440-a408-e3c3387c8d02"
      },
      "source": [
        "print(format_results(rest_result))"
      ],
      "execution_count": 28,
      "outputs": [
        {
          "output_type": "stream",
          "text": [
            "['Symbol - NYSE: JP Morgan', 'Current Value: 154.28', 'Change: -1.3', 'Change %: -0.8356']\n"
          ],
          "name": "stdout"
        }
      ]
    },
    {
      "cell_type": "code",
      "metadata": {
        "id": "2bgwaQiVxhVi"
      },
      "source": [
        ""
      ],
      "execution_count": null,
      "outputs": []
    },
    {
      "cell_type": "code",
      "metadata": {
        "id": "2pCgLlk73tdK"
      },
      "source": [
        ""
      ],
      "execution_count": null,
      "outputs": []
    }
  ]
}
